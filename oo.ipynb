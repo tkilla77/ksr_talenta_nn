{
 "cells": [
  {
   "cell_type": "code",
   "execution_count": 2,
   "metadata": {},
   "outputs": [
    {
     "name": "stdout",
     "output_type": "stream",
     "text": [
      "[0.23242737 0.74922939]\n"
     ]
    }
   ],
   "source": [
    "import numpy as np\n",
    "\n",
    "\n",
    "\n",
    "class Network:\n",
    "    def __init__(self, input_neurons, hidden_neurons, output_neurons):\n",
    "        self.wA = np.array(\n",
    "                    [[-0.3, -0.7, -0.9, -0.9],\n",
    "                    [-1,   -0.6, -0.6, -0.6],\n",
    "                    [ 0.8,  0.5,  0.7,  0.8]])\n",
    "        self.wB = np.array(\n",
    "                    [[ 2.6, 2.1, -1.2],\n",
    "                    [-2.3, -2.3, 1.1]]\n",
    "                )\n",
    "\n",
    "    def sigmoid(self, z):\n",
    "        return 1/(1 + np.exp(-z))\n",
    "\n",
    "    def feedforward(self, x):\n",
    "        h = self.sigmoid(np.dot(self.wA, x))\n",
    "        y = self.sigmoid(np.dot(self.wB, h))\n",
    "        return y\n",
    "    \n",
    "    def test(self, filename):\n",
    "        with open(filename) as infile:\n",
    "            correct = 0\n",
    "            count = 0\n",
    "            for line in infile.readlines():\n",
    "                # Split line by comma\n",
    "                # Aufteilen in Ground-Truth und Werte (X)\n",
    "                # Feedforward\n",
    "                # Vergleiche Output (y) mit Ground-Truth\n",
    "                pass\n",
    "            return correct / count\n",
    "\n",
    "\n",
    "# Let's train for the toy problem\n",
    "toy_network = Network(4, 3, 2)\n",
    "toy_error = toy_network.feedforward(np.array([1, 2, 3, 4]))\n",
    "print(toy_error)\n"
   ]
  }
 ],
 "metadata": {
  "kernelspec": {
   "display_name": ".venv (3.12.1)",
   "language": "python",
   "name": "python3"
  },
  "language_info": {
   "codemirror_mode": {
    "name": "ipython",
    "version": 3
   },
   "file_extension": ".py",
   "mimetype": "text/x-python",
   "name": "python",
   "nbconvert_exporter": "python",
   "pygments_lexer": "ipython3",
   "version": "3.12.1"
  }
 },
 "nbformat": 4,
 "nbformat_minor": 2
}
