{
 "cells": [
  {
   "cell_type": "code",
   "execution_count": 2,
   "metadata": {},
   "outputs": [
    {
     "ename": "TypeError",
     "evalue": "Network() takes no arguments",
     "output_type": "error",
     "traceback": [
      "\u001b[0;31m---------------------------------------------------------------------------\u001b[0m",
      "\u001b[0;31mTypeError\u001b[0m                                 Traceback (most recent call last)",
      "Cell \u001b[0;32mIn[2], line 23\u001b[0m\n\u001b[1;32m     20\u001b[0m         \u001b[38;5;28;01mreturn\u001b[39;00m y\n\u001b[1;32m     22\u001b[0m \u001b[38;5;66;03m# Let's train for the toy problem\u001b[39;00m\n\u001b[0;32m---> 23\u001b[0m toy_network \u001b[38;5;241m=\u001b[39m \u001b[43mNetwork\u001b[49m\u001b[43m(\u001b[49m\u001b[38;5;241;43m4\u001b[39;49m\u001b[43m,\u001b[49m\u001b[43m \u001b[49m\u001b[38;5;241;43m3\u001b[39;49m\u001b[43m,\u001b[49m\u001b[43m \u001b[49m\u001b[38;5;241;43m2\u001b[39;49m\u001b[43m)\u001b[49m\n\u001b[1;32m     24\u001b[0m toy_network\u001b[38;5;241m.\u001b[39mfeedforward(np\u001b[38;5;241m.\u001b[39marray([\u001b[38;5;241m1\u001b[39m, \u001b[38;5;241m2\u001b[39m, \u001b[38;5;241m3\u001b[39m, \u001b[38;5;241m4\u001b[39m]))\n\u001b[1;32m     26\u001b[0m \u001b[38;5;66;03m# Same for my mnist-digits problem\u001b[39;00m\n",
      "\u001b[0;31mTypeError\u001b[0m: Network() takes no arguments"
     ]
    }
   ],
   "source": [
    "import numpy as np\n",
    "\n",
    "\n",
    "\n",
    "class Network:\n",
    "    def __int__(self, input_neurons, hidden_neurons, output_neurons):\n",
    "        self.wA = np.array(\n",
    "                    [[-0.3, -0.7, -0.9, -0.9],\n",
    "                    [-1,   -0.6, -0.6, -0.6],\n",
    "                    [ 0.8,  0.5,  0.7,  0.8]])\n",
    "        self.wB = np.array(\n",
    "                    [[ 2.6, 2.1, -1.2],\n",
    "                    [-2.3, -2.3, 1.1]]\n",
    "                )\n",
    "\n",
    "    def sigmoid(self, z):\n",
    "        return 1/(1 + np.exp(-z))\n",
    "\n",
    "    def feedforward(self, x):\n",
    "        h = self.sigmoid(np.dot(self.wA, x))\n",
    "        y = self.sigmoid(np.dot(self.wB, h))\n",
    "        return y\n",
    "    \n",
    "    def test(self, filename):\n",
    "        with open(filename) as infile:\n",
    "            correct = 0\n",
    "            count = 0\n",
    "            for line in infile.readlines():\n",
    "                # Split line by comma\n",
    "                # Aufteilen in Ground-Truth und Werte (X)\n",
    "                # Feedforward\n",
    "                # Vergleiche Output (y) mit Ground-Truth\n",
    "                pass\n",
    "            return correct / count\n",
    "\n",
    "\n",
    "# Let's train for the toy problem\n",
    "toy_network = Network(4, 3, 2)\n",
    "toy_network.feedforward(np.array([1, 2, 3, 4]))\n",
    "\n",
    "# Same for my mnist-digits problem\n",
    "mnist_digit_network = Network(768, 100, 10)\n",
    "mnist_digit_network.feedforward(np.array[1, 234,234,234])\n"
   ]
  },
  {
   "cell_type": "code",
   "execution_count": null,
   "metadata": {},
   "outputs": [],
   "source": [
    "import math\n",
    "class Turtle:\n",
    "    # Constructor: called when Turtle() is called\n",
    "    def __init__(self):\n",
    "        # Assign properties (fields) of this instance\n",
    "        self.position = (0, 0)\n",
    "        self.direction = 90\n",
    "        self.color = 'black'\n",
    "    \n",
    "    def color(self, col):\n",
    "        # Update instance property\n",
    "        self.color = col\n",
    "    \n",
    "    def forward(self, distance):\n",
    "        # Compute new position\n",
    "        new_position = self.position + (math.sin(math.radians(self.direction))*distance,\n",
    "                                        math.cos(math.radians(self.direction))*distance)\n",
    "    \n",
    "        # Draw a line!\n",
    "        drawline(self.position, new_position, self.color)\n",
    "        # Move position\n",
    "        self.position = new_position\n",
    "    \n",
    "    def backward(self, distance):\n",
    "        self.forward(-distance)\n",
    "\n",
    "\n",
    "def drawline():\n",
    "    pass  # TODO implement"
   ]
  },
  {
   "cell_type": "code",
   "execution_count": null,
   "metadata": {},
   "outputs": [],
   "source": [
    "target = 3 # oder 0, oder 0-9\n",
    "\n",
    "# Ziel: t = [0, 0, 0, 1, 0, 0, 0, 0, 0, 0]\n",
    "\n",
    "t = np.zeros(self.output_size)\n",
    "t[target] = 1\n",
    "\n",
    "error = t - y"
   ]
  }
 ],
 "metadata": {
  "kernelspec": {
   "display_name": ".venv (3.12.1)",
   "language": "python",
   "name": "python3"
  },
  "language_info": {
   "codemirror_mode": {
    "name": "ipython",
    "version": 3
   },
   "file_extension": ".py",
   "mimetype": "text/x-python",
   "name": "python",
   "nbconvert_exporter": "python",
   "pygments_lexer": "ipython3",
   "version": "3.12.1"
  }
 },
 "nbformat": 4,
 "nbformat_minor": 2
}
