{
 "cells": [
  {
   "cell_type": "code",
   "execution_count": 30,
   "metadata": {},
   "outputs": [],
   "source": [
    "import numpy as np\n",
    "\n",
    "class NN:\n",
    "    def __init__(self):\n",
    "        self.wA = np.random.rand(3, 4)\n",
    "        self.wA = np.array(\n",
    "            [[-0.3, -0.7, -0.9, -0.9],\n",
    "             [-1,   -0.6, -0.6, -0.6],\n",
    "             [ 0.8,  0.5,  0.7,  0.8]])    \n",
    "        self.wB = np.random.rand(2, 3)\n",
    "        self.wB = np.array(\n",
    "            [[ 2.6, 2.1, -1.2],\n",
    "             [-2.3, -2.3, 1.1]]\n",
    "        )\n",
    "\n",
    "    def activation(self, z):\n",
    "        return 1 / (1 + np.exp(-z))\n",
    "    \n",
    "    def test(self, file):\n",
    "        count = 0\n",
    "        correct = 0\n",
    "        with open(file, 'r') as reader:\n",
    "            for line in reader:\n",
    "                target, data = self.readline(line)\n",
    "                prediction = self.feedforward(data)\n",
    "                pred = np.argmax(prediction)\n",
    "                count += 1\n",
    "                if target[pred] == 1:\n",
    "                    correct += 1\n",
    "                    #print('hurray')\n",
    "        return correct / count\n",
    "\n",
    "    def readline(self, line):\n",
    "        tokens = line.split(',')\n",
    "        target = int(tokens[0])\n",
    "        \n",
    "        data = np.asfarray(tokens[1:]) / 255 # normalize from 0..255 to 0..1\n",
    "        data = data.reshape((-1, 1))\n",
    "\n",
    "        # Make 1-hot vector for target\n",
    "        target_vector = np.zeros(4)\n",
    "        target_vector[target] = 1\n",
    "        return target_vector, data\n",
    "    \n",
    "    def feedforward(self, data):\n",
    "        hidden = self.activation(np.dot(self.wA, data))\n",
    "        output = self.activation(np.dot(self.wB, hidden))\n",
    "        return output\n",
    "\n",
    "\n"
   ]
  },
  {
   "cell_type": "code",
   "execution_count": 31,
   "metadata": {},
   "outputs": [
    {
     "data": {
      "text/plain": [
       "0.97225"
      ]
     },
     "execution_count": 31,
     "metadata": {},
     "output_type": "execute_result"
    }
   ],
   "source": [
    "toy_network = NN(4,3,2)\n",
    "toy_acc = toy_network.test('data_toy_problem/data_dark_bright_test_4000.csv')\n",
    "toy_acc\n",
    "\n",
    "digits_network = NN(784, 20, 10)\n",
    "digits_acc = digits_network.test('data_mnist/mnist_test.csv')\n",
    "digits_acc\n"
   ]
  }
 ],
 "metadata": {
  "kernelspec": {
   "display_name": ".venv (3.12.1)",
   "language": "python",
   "name": "python3"
  },
  "language_info": {
   "codemirror_mode": {
    "name": "ipython",
    "version": 3
   },
   "file_extension": ".py",
   "mimetype": "text/x-python",
   "name": "python",
   "nbconvert_exporter": "python",
   "pygments_lexer": "ipython3",
   "version": "3.12.1"
  }
 },
 "nbformat": 4,
 "nbformat_minor": 2
}
